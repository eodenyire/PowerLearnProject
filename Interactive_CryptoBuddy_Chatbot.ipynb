{
  "nbformat": 4,
  "nbformat_minor": 0,
  "metadata": {
    "colab": {
      "provenance": [],
      "authorship_tag": "ABX9TyMXzztc4y1TreT3LKYK1Lb/",
      "include_colab_link": true
    },
    "kernelspec": {
      "name": "python3",
      "display_name": "Python 3"
    },
    "language_info": {
      "name": "python"
    },
    "widgets": {
      "application/vnd.jupyter.widget-state+json": {
        "1e2f10a1eb164fbaad45112270ef9801": {
          "model_module": "@jupyter-widgets/controls",
          "model_name": "TextModel",
          "model_module_version": "1.5.0",
          "state": {
            "_dom_classes": [],
            "_model_module": "@jupyter-widgets/controls",
            "_model_module_version": "1.5.0",
            "_model_name": "TextModel",
            "_view_count": null,
            "_view_module": "@jupyter-widgets/controls",
            "_view_module_version": "1.5.0",
            "_view_name": "TextView",
            "continuous_update": true,
            "description": "",
            "description_tooltip": null,
            "disabled": false,
            "layout": "IPY_MODEL_1f8131f4d6174883a1e974ed0de8e9d3",
            "placeholder": "Ask me about crypto...",
            "style": "IPY_MODEL_7d0032ae4f954eff98bc2e77d629d359",
            "value": "Which crypto should I buy?"
          }
        },
        "1f8131f4d6174883a1e974ed0de8e9d3": {
          "model_module": "@jupyter-widgets/base",
          "model_name": "LayoutModel",
          "model_module_version": "1.2.0",
          "state": {
            "_model_module": "@jupyter-widgets/base",
            "_model_module_version": "1.2.0",
            "_model_name": "LayoutModel",
            "_view_count": null,
            "_view_module": "@jupyter-widgets/base",
            "_view_module_version": "1.2.0",
            "_view_name": "LayoutView",
            "align_content": null,
            "align_items": null,
            "align_self": null,
            "border": null,
            "bottom": null,
            "display": null,
            "flex": null,
            "flex_flow": null,
            "grid_area": null,
            "grid_auto_columns": null,
            "grid_auto_flow": null,
            "grid_auto_rows": null,
            "grid_column": null,
            "grid_gap": null,
            "grid_row": null,
            "grid_template_areas": null,
            "grid_template_columns": null,
            "grid_template_rows": null,
            "height": null,
            "justify_content": null,
            "justify_items": null,
            "left": null,
            "margin": null,
            "max_height": null,
            "max_width": null,
            "min_height": null,
            "min_width": null,
            "object_fit": null,
            "object_position": null,
            "order": null,
            "overflow": null,
            "overflow_x": null,
            "overflow_y": null,
            "padding": null,
            "right": null,
            "top": null,
            "visibility": null,
            "width": null
          }
        },
        "7d0032ae4f954eff98bc2e77d629d359": {
          "model_module": "@jupyter-widgets/controls",
          "model_name": "DescriptionStyleModel",
          "model_module_version": "1.5.0",
          "state": {
            "_model_module": "@jupyter-widgets/controls",
            "_model_module_version": "1.5.0",
            "_model_name": "DescriptionStyleModel",
            "_view_count": null,
            "_view_module": "@jupyter-widgets/base",
            "_view_module_version": "1.2.0",
            "_view_name": "StyleView",
            "description_width": ""
          }
        },
        "6e01c2dba473476aa4820104ec767322": {
          "model_module": "@jupyter-widgets/controls",
          "model_name": "ButtonModel",
          "model_module_version": "1.5.0",
          "state": {
            "_dom_classes": [],
            "_model_module": "@jupyter-widgets/controls",
            "_model_module_version": "1.5.0",
            "_model_name": "ButtonModel",
            "_view_count": null,
            "_view_module": "@jupyter-widgets/controls",
            "_view_module_version": "1.5.0",
            "_view_name": "ButtonView",
            "button_style": "",
            "description": "Ask",
            "disabled": false,
            "icon": "",
            "layout": "IPY_MODEL_4129e4ba1534486290d8d2f5c433ccb9",
            "style": "IPY_MODEL_371692095a5f41e38bbf932d5ba13819",
            "tooltip": ""
          }
        },
        "4129e4ba1534486290d8d2f5c433ccb9": {
          "model_module": "@jupyter-widgets/base",
          "model_name": "LayoutModel",
          "model_module_version": "1.2.0",
          "state": {
            "_model_module": "@jupyter-widgets/base",
            "_model_module_version": "1.2.0",
            "_model_name": "LayoutModel",
            "_view_count": null,
            "_view_module": "@jupyter-widgets/base",
            "_view_module_version": "1.2.0",
            "_view_name": "LayoutView",
            "align_content": null,
            "align_items": null,
            "align_self": null,
            "border": null,
            "bottom": null,
            "display": null,
            "flex": null,
            "flex_flow": null,
            "grid_area": null,
            "grid_auto_columns": null,
            "grid_auto_flow": null,
            "grid_auto_rows": null,
            "grid_column": null,
            "grid_gap": null,
            "grid_row": null,
            "grid_template_areas": null,
            "grid_template_columns": null,
            "grid_template_rows": null,
            "height": null,
            "justify_content": null,
            "justify_items": null,
            "left": null,
            "margin": null,
            "max_height": null,
            "max_width": null,
            "min_height": null,
            "min_width": null,
            "object_fit": null,
            "object_position": null,
            "order": null,
            "overflow": null,
            "overflow_x": null,
            "overflow_y": null,
            "padding": null,
            "right": null,
            "top": null,
            "visibility": null,
            "width": null
          }
        },
        "371692095a5f41e38bbf932d5ba13819": {
          "model_module": "@jupyter-widgets/controls",
          "model_name": "ButtonStyleModel",
          "model_module_version": "1.5.0",
          "state": {
            "_model_module": "@jupyter-widgets/controls",
            "_model_module_version": "1.5.0",
            "_model_name": "ButtonStyleModel",
            "_view_count": null,
            "_view_module": "@jupyter-widgets/base",
            "_view_module_version": "1.2.0",
            "_view_name": "StyleView",
            "button_color": null,
            "font_weight": ""
          }
        },
        "bbd0912779cf4d41ad3736107b45fd25": {
          "model_module": "@jupyter-widgets/output",
          "model_name": "OutputModel",
          "model_module_version": "1.0.0",
          "state": {
            "_dom_classes": [],
            "_model_module": "@jupyter-widgets/output",
            "_model_module_version": "1.0.0",
            "_model_name": "OutputModel",
            "_view_count": null,
            "_view_module": "@jupyter-widgets/output",
            "_view_module_version": "1.0.0",
            "_view_name": "OutputView",
            "layout": "IPY_MODEL_347f6908b1134f10b6d5ed1e5ec227f2",
            "msg_id": "",
            "outputs": [
              {
                "output_type": "stream",
                "name": "stdout",
                "text": [
                  "🤖 CryptoBuddy: 💰 Consider buying Bitcoin for profitability.\n"
                ]
              }
            ]
          }
        },
        "347f6908b1134f10b6d5ed1e5ec227f2": {
          "model_module": "@jupyter-widgets/base",
          "model_name": "LayoutModel",
          "model_module_version": "1.2.0",
          "state": {
            "_model_module": "@jupyter-widgets/base",
            "_model_module_version": "1.2.0",
            "_model_name": "LayoutModel",
            "_view_count": null,
            "_view_module": "@jupyter-widgets/base",
            "_view_module_version": "1.2.0",
            "_view_name": "LayoutView",
            "align_content": null,
            "align_items": null,
            "align_self": null,
            "border": null,
            "bottom": null,
            "display": null,
            "flex": null,
            "flex_flow": null,
            "grid_area": null,
            "grid_auto_columns": null,
            "grid_auto_flow": null,
            "grid_auto_rows": null,
            "grid_column": null,
            "grid_gap": null,
            "grid_row": null,
            "grid_template_areas": null,
            "grid_template_columns": null,
            "grid_template_rows": null,
            "height": null,
            "justify_content": null,
            "justify_items": null,
            "left": null,
            "margin": null,
            "max_height": null,
            "max_width": null,
            "min_height": null,
            "min_width": null,
            "object_fit": null,
            "object_position": null,
            "order": null,
            "overflow": null,
            "overflow_x": null,
            "overflow_y": null,
            "padding": null,
            "right": null,
            "top": null,
            "visibility": null,
            "width": null
          }
        }
      }
    }
  },
  "cells": [
    {
      "cell_type": "markdown",
      "metadata": {
        "id": "view-in-github",
        "colab_type": "text"
      },
      "source": [
        "<a href=\"https://colab.research.google.com/github/eodenyire/PowerLearnProject/blob/main/Interactive_CryptoBuddy_Chatbot.ipynb\" target=\"_parent\"><img src=\"https://colab.research.google.com/assets/colab-badge.svg\" alt=\"Open In Colab\"/></a>"
      ]
    },
    {
      "cell_type": "code",
      "execution_count": 1,
      "metadata": {
        "colab": {
          "base_uri": "https://localhost:8080/",
          "height": 98,
          "referenced_widgets": [
            "1e2f10a1eb164fbaad45112270ef9801",
            "1f8131f4d6174883a1e974ed0de8e9d3",
            "7d0032ae4f954eff98bc2e77d629d359",
            "6e01c2dba473476aa4820104ec767322",
            "4129e4ba1534486290d8d2f5c433ccb9",
            "371692095a5f41e38bbf932d5ba13819",
            "bbd0912779cf4d41ad3736107b45fd25",
            "347f6908b1134f10b6d5ed1e5ec227f2"
          ]
        },
        "id": "8ywG9qjCECxW",
        "outputId": "6448282f-7101-4b0a-c3f7-f93c8c159a62"
      },
      "outputs": [
        {
          "output_type": "display_data",
          "data": {
            "text/plain": [
              "Text(value='', placeholder='Ask me about crypto...')"
            ],
            "application/vnd.jupyter.widget-view+json": {
              "version_major": 2,
              "version_minor": 0,
              "model_id": "1e2f10a1eb164fbaad45112270ef9801"
            }
          },
          "metadata": {}
        },
        {
          "output_type": "display_data",
          "data": {
            "text/plain": [
              "Button(description='Ask', style=ButtonStyle())"
            ],
            "application/vnd.jupyter.widget-view+json": {
              "version_major": 2,
              "version_minor": 0,
              "model_id": "6e01c2dba473476aa4820104ec767322"
            }
          },
          "metadata": {}
        },
        {
          "output_type": "display_data",
          "data": {
            "text/plain": [
              "Output()"
            ],
            "application/vnd.jupyter.widget-view+json": {
              "version_major": 2,
              "version_minor": 0,
              "model_id": "bbd0912779cf4d41ad3736107b45fd25"
            }
          },
          "metadata": {}
        }
      ],
      "source": [
        "# 👋 Welcome to CryptoBuddy on Google Colab!\n",
        "\n",
        "crypto_db = {\n",
        "    \"Bitcoin\": {\n",
        "        \"price_trend\": \"rising\",\n",
        "        \"market_cap\": \"high\",\n",
        "        \"energy_use\": \"high\",\n",
        "        \"sustainability_score\": 3\n",
        "    },\n",
        "    \"Ethereum\": {\n",
        "        \"price_trend\": \"stable\",\n",
        "        \"market_cap\": \"high\",\n",
        "        \"energy_use\": \"medium\",\n",
        "        \"sustainability_score\": 6\n",
        "    },\n",
        "    \"Cardano\": {\n",
        "        \"price_trend\": \"rising\",\n",
        "        \"market_cap\": \"medium\",\n",
        "        \"energy_use\": \"low\",\n",
        "        \"sustainability_score\": 8\n",
        "    }\n",
        "}\n",
        "\n",
        "def get_most_sustainable():\n",
        "    return max(crypto_db, key=lambda x: crypto_db[x][\"sustainability_score\"])\n",
        "\n",
        "def get_trending_cryptos():\n",
        "    return [name for name, data in crypto_db.items() if data[\"price_trend\"] == \"rising\"]\n",
        "\n",
        "def get_profitable_crypto():\n",
        "    for name, data in crypto_db.items():\n",
        "        if data[\"price_trend\"] == \"rising\" and data[\"market_cap\"] == \"high\":\n",
        "            return name\n",
        "    return \"No profitable crypto found\"\n",
        "\n",
        "def get_long_term_crypto():\n",
        "    for name, data in crypto_db.items():\n",
        "        if data[\"price_trend\"] == \"rising\" and data[\"energy_use\"] == \"low\" and data[\"sustainability_score\"] > 7:\n",
        "            return name\n",
        "    return \"No suitable long-term crypto found\"\n",
        "\n",
        "# User Interface\n",
        "def crypto_chatbot(user_query):\n",
        "    user_query = user_query.lower()\n",
        "\n",
        "    if \"sustainable\" in user_query or \"eco\" in user_query:\n",
        "        coin = get_most_sustainable()\n",
        "        return f\"🌱 {coin} is the most sustainable with a score of {crypto_db[coin]['sustainability_score']}/10.\"\n",
        "\n",
        "    elif \"trending\" in user_query or \"rising\" in user_query:\n",
        "        rising = get_trending_cryptos()\n",
        "        return f\"📈 Trending cryptos: {', '.join(rising)}\"\n",
        "\n",
        "    elif \"long-term\" in user_query or \"growth\" in user_query:\n",
        "        coin = get_long_term_crypto()\n",
        "        if \"No\" in coin:\n",
        "            return \"❌ Sorry, I couldn't find a suitable long-term crypto right now.\"\n",
        "        else:\n",
        "            return f\"🚀 {coin} is a great long-term investment based on trend and sustainability.\"\n",
        "\n",
        "    elif \"buy\" in user_query:\n",
        "        coin = get_profitable_crypto()\n",
        "        if \"No\" in coin:\n",
        "            return \"🤷 Sorry, no strong buy suggestions right now.\"\n",
        "        else:\n",
        "            return f\"💰 Consider buying {coin} for profitability.\"\n",
        "\n",
        "    elif \"help\" in user_query:\n",
        "        return (\n",
        "            \"🆘 Try these:\\n\"\n",
        "            \"- Which crypto is trending up?\\n\"\n",
        "            \"- What is the most sustainable coin?\\n\"\n",
        "            \"- Which crypto should I buy for long-term growth?\"\n",
        "        )\n",
        "\n",
        "    else:\n",
        "        return \"❓ I didn’t get that. Ask about trends, sustainability, or investments.\"\n",
        "\n",
        "# Run this cell to interact\n",
        "from IPython.display import display\n",
        "import ipywidgets as widgets\n",
        "\n",
        "def on_submit(b):\n",
        "    response = crypto_chatbot(textbox.value)\n",
        "    output.clear_output()\n",
        "    with output:\n",
        "        print(\"🤖 CryptoBuddy:\", response)\n",
        "\n",
        "textbox = widgets.Text(placeholder=\"Ask me about crypto...\")\n",
        "button = widgets.Button(description=\"Ask\")\n",
        "output = widgets.Output()\n",
        "\n",
        "button.on_click(on_submit)\n",
        "display(textbox, button, output)\n"
      ]
    }
  ]
}